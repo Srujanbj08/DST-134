{
  "nbformat": 4,
  "nbformat_minor": 0,
  "metadata": {
    "colab": {
      "provenance": []
    },
    "kernelspec": {
      "name": "python3",
      "display_name": "Python 3"
    },
    "language_info": {
      "name": "python"
    }
  },
  "cells": [
    {
      "cell_type": "code",
      "execution_count": 1,
      "metadata": {
        "colab": {
          "base_uri": "https://localhost:8080/"
        },
        "id": "CXiGWKuZaY99",
        "outputId": "466b80b4-07cc-4a60-e659-76c5f50163df"
      },
      "outputs": [
        {
          "output_type": "stream",
          "name": "stdout",
          "text": [
            "List Before Deletion: \n",
            "50 40 30 20 10 \n",
            "List After Deletion: \n",
            "50 30 20 10 \n"
          ]
        }
      ],
      "source": [
        "class Node:\n",
        "\tdef __init__(self, data):\n",
        "\t\tself.data = data\n",
        "\t\tself.next = None\n",
        "def push(head, data):\n",
        "\tnewP = Node(data)\n",
        "\tnewP.next = head\n",
        "\tif head != None:\n",
        "\t\ttemp = head\n",
        "\t\twhile (temp.next != head):\n",
        "\t\t\ttemp = temp.next\n",
        "\t\ttemp.next = newP\n",
        "\telse:\n",
        "\t\tnewP.next = newP\n",
        "\thead = newP\n",
        "\treturn head\n",
        "def printList(head):\n",
        "\tif head == None:\n",
        "\t\tprint(\"List is Empty\")\n",
        "\t\treturn\n",
        "\ttemp = head.next\n",
        "\tprint(head.data, end=' ')\n",
        "\tif (head != None):\n",
        "\t\twhile (temp != head):\n",
        "\t\t\tprint(temp.data, end=\" \")\n",
        "\t\t\ttemp = temp.next\n",
        "\tprint()\n",
        "def deleteNode(head, key):\n",
        "\tif (head == None):\n",
        "\t\treturn\n",
        "\tif (head.data == key and head.next == head):\n",
        "\t\thead = None\n",
        "\t\treturn\n",
        "\tlast = head\n",
        "\tif (head.data == key):\n",
        "\t\twhile (last.next != head):\n",
        "\t\t\tlast = last.next\n",
        "\t\tlast.next = head.next\n",
        "\t\thead = last.next\n",
        "\t\treturn\n",
        "\twhile (last.next != head and last.next.data != key):\n",
        "\t\tlast = last.next\n",
        "\tif (last.next.data == key):\n",
        "\t\td = last.next\n",
        "\t\tlast.next = d.next\n",
        "\t\td = None\n",
        "\telse:\n",
        "\t\tprint(\"Given node is not found in the list!!!\")\n",
        "head = None\n",
        "head = push(head, 10)\n",
        "head = push(head, 20)\n",
        "head = push(head, 30)\n",
        "head = push(head, 40)\n",
        "head = push(head, 50)\n",
        "print(\"List Before Deletion: \")\n",
        "printList(head)\n",
        "deleteNode(head, 40)\n",
        "print(\"List After Deletion: \")\n",
        "printList(head)\n"
      ]
    }
  ]
}