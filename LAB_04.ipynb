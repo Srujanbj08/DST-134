{
  "nbformat": 4,
  "nbformat_minor": 0,
  "metadata": {
    "colab": {
      "provenance": []
    },
    "kernelspec": {
      "name": "python3",
      "display_name": "Python 3"
    },
    "language_info": {
      "name": "python"
    }
  },
  "cells": [
    {
      "cell_type": "code",
      "execution_count": 1,
      "metadata": {
        "colab": {
          "base_uri": "https://localhost:8080/"
        },
        "id": "OyKN0DAhGnmK",
        "outputId": "54bc21b5-373a-42fc-eabb-43336b2a6e18"
      },
      "outputs": [
        {
          "output_type": "stream",
          "name": "stdout",
          "text": [
            "enter the number of elements4\n",
            "enter the element10\n",
            "enter the element20\n",
            "enter the element30\n",
            "enter the element40\n",
            "stack is full\n",
            "[10, 20, 30]\n",
            "[10, 20]\n",
            "[10]\n",
            "[]\n",
            "stack is empty\n"
          ]
        }
      ],
      "source": [
        "list=[]\n",
        "m=int(input(\"enter the number of elements\"))\n",
        "for i in range(0,m):\n",
        "  n=int(input(\"enter the element\"))\n",
        "  list.append(n)\n",
        "if len(list)==m:\n",
        "  print(\"stack is full\")\n",
        "else:\n",
        "  print(\"stack is empty\")\n",
        "list.pop()\n",
        "print(list)\n",
        "list.pop()\n",
        "print(list)\n",
        "list.pop()\n",
        "print(list)\n",
        "list.pop()\n",
        "print(list)\n",
        "if len(list)==m:\n",
        "  print(\"stack is full\")\n",
        "else:\n",
        "  print(\"stack is empty\")"
      ]
    },
    {
      "cell_type": "code",
      "source": [
        "class Node:\n",
        "    def __init__(self, data):\n",
        "        self.next = None\n",
        "        self.data = data\n",
        "\n",
        "class Stack:\n",
        "    def __init__(self):\n",
        "        self.top = None\n",
        "\n",
        "    def push(self):\n",
        "        data = input(\"Enter data to be pushed: \")\n",
        "        new_node = Node(data)\n",
        "        if self.top is None:\n",
        "            self.top = new_node\n",
        "            self.top.next = None\n",
        "        else:\n",
        "            new_node.next = self.top\n",
        "            self.top = new_node\n",
        "\n",
        "    def pop(self):\n",
        "        if self.top is None:\n",
        "            print(\"Stack is empty\")\n",
        "        else:\n",
        "            if self.top.next is None:\n",
        "                print(\"Popped Element is : \", self.top.data)\n",
        "                self.top = None\n",
        "            else:\n",
        "                if self.top is not None:\n",
        "                    print(\"Popped Element is : \", self.top.data)\n",
        "                    self.top = self.top.next\n",
        "\n",
        "    def display(self):\n",
        "        if self.top is None:\n",
        "            print(\"Stack is empty\")\n",
        "        else:\n",
        "            print(\"Elements of stack are:\")\n",
        "            temp = self.top\n",
        "            while temp:\n",
        "                print(temp.data)\n",
        "                temp = temp.next\n",
        "            print(\"Top of stack:\", self.top.data)\n",
        "\n",
        "s = Stack()\n",
        "while True:\n",
        "    stack_input = int(input(\"\\n\\n1. Push\\n2. Pop \\n3. Display\\n \\n4. Quit\\nEnter an option:\"))\n",
        "    if stack_input == 1:\n",
        "        s.push()\n",
        "    elif stack_input == 2:\n",
        "        s.pop()\n",
        "    elif stack_input == 3:\n",
        "        s.display()\n",
        "    elif stack_input== 4:\n",
        "      break\n",
        "\n"
      ],
      "metadata": {
        "colab": {
          "base_uri": "https://localhost:8080/"
        },
        "id": "iLwLsNzEGuOA",
        "outputId": "59896c0c-c55b-413d-e07f-2480a3ed4129"
      },
      "execution_count": 2,
      "outputs": [
        {
          "name": "stdout",
          "output_type": "stream",
          "text": [
            "\n",
            "\n",
            "1. Push\n",
            "2. Pop \n",
            "3. Display\n",
            " \n",
            "4. Quit\n",
            "Enter an option:1\n",
            "Enter data to be pushed: 10\n",
            "\n",
            "\n",
            "1. Push\n",
            "2. Pop \n",
            "3. Display\n",
            " \n",
            "4. Quit\n",
            "Enter an option:1\n",
            "Enter data to be pushed: 20\n",
            "\n",
            "\n",
            "1. Push\n",
            "2. Pop \n",
            "3. Display\n",
            " \n",
            "4. Quit\n",
            "Enter an option:2\n",
            "Popped Element is :  20\n",
            "\n",
            "\n",
            "1. Push\n",
            "2. Pop \n",
            "3. Display\n",
            " \n",
            "4. Quit\n",
            "Enter an option:3\n",
            "Elements of stack are:\n",
            "10\n",
            "Top of stack: 10\n",
            "\n",
            "\n",
            "1. Push\n",
            "2. Pop \n",
            "3. Display\n",
            " \n",
            "4. Quit\n",
            "Enter an option:4\n"
          ]
        }
      ]
    }
  ]
}